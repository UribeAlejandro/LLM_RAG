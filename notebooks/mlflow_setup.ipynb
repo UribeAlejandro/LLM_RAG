{
 "cells": [
  {
   "cell_type": "markdown",
   "source": [
    "## MLflow Server authentication setup"
   ],
   "metadata": {
    "collapsed": false
   },
   "id": "74d1951a60ec0a7"
  },
  {
   "cell_type": "code",
   "execution_count": null,
   "outputs": [],
   "source": [
    "from mlflow.server import get_app_client\n",
    "from dotenv import load_dotenv\n",
    "import os"
   ],
   "metadata": {
    "collapsed": false
   },
   "id": "initial_id"
  },
  {
   "cell_type": "code",
   "execution_count": null,
   "outputs": [],
   "source": [
    "load_dotenv(\"../.env\")"
   ],
   "metadata": {
    "collapsed": false
   },
   "id": "17169b4dba3c1f41"
  },
  {
   "cell_type": "code",
   "execution_count": null,
   "outputs": [],
   "source": [
    "tracking_uri = os.getenv(\"MLFLOW_TRACKING_URI\")\n",
    "app_name = os.getenv(\"MLFLOW_APP_NAME\")"
   ],
   "metadata": {
    "collapsed": false
   },
   "id": "3297a5f2a076e8e5"
  },
  {
   "cell_type": "code",
   "execution_count": null,
   "outputs": [],
   "source": [
    "auth_client = get_app_client(app_name, tracking_uri=tracking_uri)"
   ],
   "metadata": {
    "collapsed": false
   },
   "id": "cf44cf3d7e0a81b"
  },
  {
   "cell_type": "code",
   "execution_count": null,
   "outputs": [],
   "source": [
    "auth_client.create_user(username=username, password=password)"
   ],
   "metadata": {
    "collapsed": false
   },
   "id": "6c47be1b85782dc8"
  },
  {
   "cell_type": "code",
   "execution_count": null,
   "outputs": [],
   "source": [
    "auth_client.update_user_admin(username=username, is_admin=False)"
   ],
   "metadata": {
    "collapsed": false
   },
   "id": "26498a46ba0e2503"
  },
  {
   "cell_type": "code",
   "execution_count": null,
   "outputs": [],
   "source": [
    "auth_client.update_user_password(username=username, password=password)"
   ],
   "metadata": {
    "collapsed": false
   },
   "id": "1cae0c1984d33b37"
  }
 ],
 "metadata": {
  "kernelspec": {
   "display_name": "Python 3",
   "language": "python",
   "name": "python3"
  },
  "language_info": {
   "codemirror_mode": {
    "name": "ipython",
    "version": 2
   },
   "file_extension": ".py",
   "mimetype": "text/x-python",
   "name": "python",
   "nbconvert_exporter": "python",
   "pygments_lexer": "ipython2",
   "version": "2.7.6"
  }
 },
 "nbformat": 4,
 "nbformat_minor": 5
}
