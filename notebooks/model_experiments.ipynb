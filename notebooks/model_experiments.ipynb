{
 "cells": [
  {
   "cell_type": "markdown",
   "source": [
    "# Model experimentation"
   ],
   "metadata": {
    "collapsed": false
   },
   "id": "b5fb1543ff58c9a3"
  },
  {
   "cell_type": "code",
   "execution_count": null,
   "outputs": [],
   "source": [
    "import mlflow\n",
    "import pandas as pd\n",
    "from langchain.llms import GPT4All\n",
    "import pinecone\n",
    "from langchain.embeddings import GPT4AllEmbeddings\n",
    "import os\n",
    "from langchain.vectorstores import Pinecone\n",
    "from langchain.chains import RetrievalQA\n",
    "from dotenv import load_dotenv\n",
    "from langchain import hub"
   ],
   "metadata": {
    "collapsed": false
   },
   "id": "initial_id"
  },
  {
   "cell_type": "code",
   "execution_count": null,
   "outputs": [],
   "source": [
    "load_dotenv(\"../.env\")"
   ],
   "metadata": {
    "collapsed": false
   },
   "id": "659d8a5803ae0671"
  },
  {
   "cell_type": "markdown",
   "source": [
    "## Evaluation data\n",
    "\n",
    "Create the questions, and possible (not accurate) answers."
   ],
   "metadata": {
    "collapsed": false
   },
   "id": "c336e79130d74087"
  },
  {
   "cell_type": "code",
   "execution_count": null,
   "outputs": [],
   "source": [
    "EVAL_QUESTIONS = [\n",
    "    \"What is SageMaker?\",\n",
    "    \"What are all AWS regions where SageMaker is available?\",\n",
    "    \"How to check if an endpoint is KMS encrypted?\",\n",
    "    \"What are SageMaker Geospatial capabilities?\"\n",
    "]"
   ],
   "metadata": {
    "collapsed": false
   },
   "id": "7a5f71ded590207f"
  },
  {
   "cell_type": "code",
   "execution_count": null,
   "outputs": [],
   "source": [
    "ANSWERS = [\n",
    "    \"Amazon SageMaker is a fully managed service that provides every developer and data scientist with the ability to build, train, and deploy machine learning (ML) models\",\n",
    "    \"All supported AWS regions except China (Beijing), Asia Pacific (Jakarta), Middle East (UAE), Asia Pacific (Hyderabad), Asia Pacific (Melbourne), AWS GovCloud (US-East), AWS GovCloud (US-West), Europe (Spain), China (Ningxia), Europe (Zurich) Region\",\n",
    "    \"Checks whether AWS Key Management Service (KMS) key is configured for an Amazon SageMaker endpoint configuration. The rule is NON_COMPLIANT if 'KmsKeyId' is not specified for the Amazon SageMaker endpoint configuration.\",\n",
    "    \"SageMaker geospatial capabilities rolesAs a managed service, Amazon SageMaker geospatial capabilities perform operations on your behalf on the AWS hardware that is managed by SageMaker. It can perform only operations that the user permits.\"\n",
    "]"
   ],
   "metadata": {
    "collapsed": false
   },
   "id": "8e38990d19d5f7a1"
  },
  {
   "cell_type": "code",
   "execution_count": null,
   "outputs": [],
   "source": [
    "questions = pd.DataFrame(\n",
    "    {\n",
    "        \"query\": EVAL_QUESTIONS,\n",
    "        \"answer\": ANSWERS\n",
    "    }\n",
    ")"
   ],
   "metadata": {
    "collapsed": false
   },
   "id": "a5e280a04d92491e"
  },
  {
   "cell_type": "markdown",
   "source": [
    "# Retriever\n",
    "\n",
    "Vectors will be retrieved from Pinecone"
   ],
   "metadata": {
    "collapsed": false
   },
   "id": "ef109f59430e6919"
  },
  {
   "cell_type": "code",
   "execution_count": null,
   "outputs": [],
   "source": [
    "pinecone.init(\n",
    "    api_key = os.getenv(\"PINECONE_API_KEY\"),\n",
    "    environment = os.getenv(\"PINECONE_ENV\"),\n",
    ")"
   ],
   "metadata": {
    "collapsed": false
   },
   "id": "bbca937d760c4ad4"
  },
  {
   "cell_type": "code",
   "execution_count": null,
   "outputs": [],
   "source": [
    "index = pinecone.Index(\"clementine-loka\")"
   ],
   "metadata": {
    "collapsed": false
   },
   "id": "ef5c7d5148d00b5"
  },
  {
   "cell_type": "code",
   "execution_count": null,
   "outputs": [],
   "source": [
    "index.describe_index_stats()"
   ],
   "metadata": {
    "collapsed": false
   },
   "id": "70f5f9570f9f48f9"
  },
  {
   "cell_type": "code",
   "execution_count": null,
   "outputs": [],
   "source": [
    "embeddings = GPT4AllEmbeddings()\n",
    "vectorstore = Pinecone.from_existing_index(\"clementine-loka\", embeddings)"
   ],
   "metadata": {
    "collapsed": false
   },
   "id": "9380f889dc729947"
  },
  {
   "cell_type": "code",
   "execution_count": null,
   "outputs": [],
   "source": [
    "def load_retriever(persist_directory):\n",
    "    embeddings = GPT4AllEmbeddings()\n",
    "    vectorstore = Pinecone.from_existing_index(\"clementine-loka\", embeddings)\n",
    "    retriever = vectorstore.as_retriever()\n",
    "    return retriever"
   ],
   "metadata": {
    "collapsed": false
   },
   "id": "f585bcddd7f7c6ae"
  },
  {
   "cell_type": "markdown",
   "source": [
    "Example of usage"
   ],
   "metadata": {
    "collapsed": false
   },
   "id": "eab1450933040955"
  },
  {
   "cell_type": "code",
   "execution_count": null,
   "outputs": [],
   "source": [
    "retrieved = vectorstore.similarity_search(\"What is Sagemaker?\")"
   ],
   "metadata": {
    "collapsed": false
   },
   "id": "b1d2492a97f7234c"
  },
  {
   "cell_type": "code",
   "execution_count": null,
   "outputs": [],
   "source": [
    "print(retrieved[0].page_content)"
   ],
   "metadata": {
    "collapsed": false
   },
   "id": "e4bd8fccaced5378"
  },
  {
   "cell_type": "code",
   "execution_count": null,
   "outputs": [],
   "source": [
    "print(retrieved[0].metadata[\"source\"])"
   ],
   "metadata": {
    "collapsed": false
   },
   "id": "4d5e8ee34663c835"
  },
  {
   "cell_type": "markdown",
   "source": [
    "## RAG: Retrieval Augmented Generation\n",
    "\n",
    "In order to carry out the retrieving from the external knowledge base a prompt is required "
   ],
   "metadata": {
    "collapsed": false
   },
   "id": "74c4fdc1c3ccc65b"
  },
  {
   "cell_type": "code",
   "execution_count": null,
   "outputs": [],
   "source": [
    "rag_prompt = hub.pull(\"rlm/rag-prompt\")"
   ],
   "metadata": {
    "collapsed": false
   },
   "id": "ee69ec26687609ad"
  },
  {
   "cell_type": "markdown",
   "source": [
    "## LLM & Chain\n",
    "\n",
    "Two different LLMs will be evaluated"
   ],
   "metadata": {
    "collapsed": false
   },
   "id": "66f2695a9d7e6a8a"
  },
  {
   "cell_type": "code",
   "execution_count": null,
   "outputs": [],
   "source": [
    "models = {\n",
    "    \"orca-mini-3b\": \"../models/orca-mini-3b-gguf2-q4_0.gguf\",\n",
    "    \"gpt4all-falcon\": \"../models/gpt4all-falcon-q4_0.gguf\"\n",
    "}"
   ],
   "metadata": {
    "collapsed": false
   },
   "id": "dfb428c88a40ab71"
  },
  {
   "cell_type": "code",
   "execution_count": null,
   "outputs": [],
   "source": [
    "retriever=load_retriever(\"\")\n",
    "llm = GPT4All(model=\"../models/orca-mini-3b-gguf2-q4_0.gguf\")\n",
    "qa_chain = RetrievalQA.from_chain_type(\n",
    "    llm,\n",
    "    chain_type='stuff',\n",
    "    verbose=True,\n",
    "    retriever=retriever,\n",
    "    chain_type_kwargs={\"prompt\": rag_prompt},\n",
    "    return_source_documents=False\n",
    ")"
   ],
   "metadata": {
    "collapsed": false
   },
   "id": "d4198b2d57af287"
  },
  {
   "cell_type": "markdown",
   "source": [
    "An example of the results"
   ],
   "metadata": {
    "collapsed": false
   },
   "id": "2a74929276b5bfed"
  },
  {
   "cell_type": "code",
   "execution_count": null,
   "outputs": [],
   "source": [
    "question = \"What are all AWS regions where SageMaker is available?\"\n",
    "result = qa_chain({\"query\": question})\n",
    "result[\"result\"]"
   ],
   "metadata": {
    "collapsed": false
   },
   "id": "3347f8035f537a0e"
  },
  {
   "cell_type": "markdown",
   "source": [
    "## Model evaluation\n",
    "\n",
    "The evaluation will be stored in a MLFlow server"
   ],
   "metadata": {
    "collapsed": false
   },
   "id": "e0d9f6d580ffeeb2"
  },
  {
   "cell_type": "code",
   "execution_count": null,
   "outputs": [],
   "source": [
    "persist_dir=\"database\" # Mandatory parameter by MLFlow\n",
    "mlflow.set_tracking_uri(os.getenv(\"MLFLOW_TRACKING_URI\"))"
   ],
   "metadata": {
    "collapsed": false
   },
   "id": "e685558b3140c5d9"
  },
  {
   "cell_type": "markdown",
   "source": [
    "Lets evaluate the two models"
   ],
   "metadata": {
    "collapsed": false
   },
   "id": "d0743fcedc0fe8fe"
  },
  {
   "cell_type": "code",
   "execution_count": null,
   "outputs": [],
   "source": [
    "for model_name, model_path in models.items():\n",
    "    llm = GPT4All(model=model_path)\n",
    "    qa_chain = RetrievalQA.from_chain_type(\n",
    "        llm,\n",
    "        chain_type='stuff',\n",
    "        verbose=True,\n",
    "        retriever=retriever,\n",
    "        chain_type_kwargs={\"prompt\": rag_prompt},\n",
    "        return_source_documents=False\n",
    "    )\n",
    "    \n",
    "\n",
    "    with mlflow.start_run(run_name=\"log_model_\"+ model_name):\n",
    "        mlflow.log_param(\"model_name\", model_name)\n",
    "        \n",
    "        logged_model = mlflow.langchain.log_model(\n",
    "            qa_chain, \n",
    "            artifact_path=\"model\",\n",
    "            loader_fn=load_retriever,\n",
    "            persist_dir=persist_dir,\n",
    "        )\n",
    "        \n",
    "        generated = mlflow.evaluate(\n",
    "            model=logged_model.model_uri,\n",
    "            # model_type=\"question-answering\", # Not necessary if metrics are specified\n",
    "            data=questions,\n",
    "            targets=\"answer\",\n",
    "            extra_metrics=[\n",
    "                mlflow.metrics.toxicity(), \n",
    "                mlflow.metrics.latency(), \n",
    "                mlflow.metrics.ari_grade_level(), \n",
    "                mlflow.metrics.flesch_kincaid_grade_level(),\n",
    "                mlflow.metrics.exact_match(),\n",
    "            ],\n",
    "        )\n",
    "        mlflow.end_run()"
   ],
   "metadata": {
    "collapsed": false
   },
   "id": "7556b0ac9cfbf350"
  }
 ],
 "metadata": {
  "kernelspec": {
   "name": "python3",
   "language": "python",
   "display_name": "Python 3 (ipykernel)"
  },
  "language_info": {
   "codemirror_mode": {
    "name": "ipython",
    "version": 2
   },
   "file_extension": ".py",
   "mimetype": "text/x-python",
   "name": "python",
   "nbconvert_exporter": "python",
   "pygments_lexer": "ipython2",
   "version": "2.7.6"
  }
 },
 "nbformat": 4,
 "nbformat_minor": 5
}
