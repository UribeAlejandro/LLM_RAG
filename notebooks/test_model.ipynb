{
 "cells": [
  {
   "cell_type": "code",
   "execution_count": null,
   "id": "initial_id",
   "metadata": {
    "collapsed": true
   },
   "outputs": [],
   "source": [
    "from src.model.rag import load_retriever, create_rag_model\n",
    "from src.constants import INDEX_NAME, MODEL_PATH\n",
    "from dotenv import load_dotenv\n",
    "load_dotenv(\",,/.env\")"
   ]
  },
  {
   "cell_type": "code",
   "execution_count": null,
   "outputs": [],
   "source": [
    "retriever = load_retriever(INDEX_NAME)"
   ],
   "metadata": {
    "collapsed": false
   },
   "id": "a877ba19fc7d9f4d"
  },
  {
   "cell_type": "code",
   "execution_count": null,
   "outputs": [],
   "source": [
    "rag_model = create_rag_model(MODEL_PATH, retriever, **{\"return_source_documents\": True})"
   ],
   "metadata": {
    "collapsed": false
   },
   "id": "76d455ea7a5cfc1a"
  },
  {
   "cell_type": "code",
   "execution_count": null,
   "outputs": [],
   "source": [
    "result = rag_model({\"query\":\"What is SageMaker?\"})"
   ],
   "metadata": {
    "collapsed": false
   },
   "id": "991ed9ec20eac8a9"
  },
  {
   "cell_type": "code",
   "execution_count": null,
   "outputs": [],
   "source": [
    "result[\"result\"]"
   ],
   "metadata": {
    "collapsed": false
   },
   "id": "b181db6872bc2b68"
  },
  {
   "cell_type": "code",
   "execution_count": null,
   "outputs": [],
   "source": [
    "result"
   ],
   "metadata": {
    "collapsed": false
   },
   "id": "fd7590576da7c3bf"
  },
  {
   "cell_type": "code",
   "execution_count": null,
   "outputs": [],
   "source": [
    "docs = []\n",
    "for document in result[\"source_documents\"]:\n",
    "    print(document.metadata[\"source\"])"
   ],
   "metadata": {
    "collapsed": false
   },
   "id": "a71155be698214d6"
  }
 ],
 "metadata": {
  "kernelspec": {
   "name": "python3",
   "language": "python",
   "display_name": "Python 3 (ipykernel)"
  },
  "language_info": {
   "codemirror_mode": {
    "name": "ipython",
    "version": 2
   },
   "file_extension": ".py",
   "mimetype": "text/x-python",
   "name": "python",
   "nbconvert_exporter": "python",
   "pygments_lexer": "ipython2",
   "version": "2.7.6"
  }
 },
 "nbformat": 4,
 "nbformat_minor": 5
}
