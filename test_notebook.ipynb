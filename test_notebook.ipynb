{
 "cells": [
  {
   "cell_type": "code",
   "execution_count": 31,
   "id": "initial_id",
   "metadata": {
    "collapsed": true,
    "ExecuteTime": {
     "end_time": "2023-12-06T19:50:34.711561Z",
     "start_time": "2023-12-06T19:50:34.708804Z"
    }
   },
   "outputs": [],
   "source": [
    "from langchain.callbacks.streaming_stdout import StreamingStdOutCallbackHandler\n",
    "from langchain.schema import AIMessage, HumanMessage, SystemMessage\n",
    "import openai\n",
    "from langchain.chains import LLMChain\n",
    "from langchain.llms import GPT4All\n",
    "from langchain.prompts import PromptTemplate\n",
    "import pinecone\n",
    "import os\n",
    "\n",
    "from dotenv import load_dotenv"
   ]
  },
  {
   "cell_type": "code",
   "execution_count": 26,
   "outputs": [
    {
     "data": {
      "text/plain": "True"
     },
     "execution_count": 26,
     "metadata": {},
     "output_type": "execute_result"
    }
   ],
   "source": [
    "load_dotenv()"
   ],
   "metadata": {
    "collapsed": false,
    "ExecuteTime": {
     "end_time": "2023-12-06T19:49:40.868678Z",
     "start_time": "2023-12-06T19:49:40.865727Z"
    }
   },
   "id": "659d8a5803ae0671"
  },
  {
   "cell_type": "code",
   "execution_count": 27,
   "outputs": [],
   "source": [
    "pinecone.init(\n",
    "    api_key = os.getenv(\"PINECONE_API_KEY\"),\n",
    "    environment = os.getenv(\"PINECONE_ENV\"),\n",
    ")"
   ],
   "metadata": {
    "collapsed": false,
    "ExecuteTime": {
     "end_time": "2023-12-06T19:49:41.547914Z",
     "start_time": "2023-12-06T19:49:41.205241Z"
    }
   },
   "id": "f94de184cae4a2a7"
  },
  {
   "cell_type": "code",
   "execution_count": 28,
   "outputs": [
    {
     "data": {
      "text/plain": "['clementine-loka']"
     },
     "execution_count": 28,
     "metadata": {},
     "output_type": "execute_result"
    }
   ],
   "source": [
    "pinecone.list_indexes()"
   ],
   "metadata": {
    "collapsed": false,
    "ExecuteTime": {
     "end_time": "2023-12-06T19:49:42.540298Z",
     "start_time": "2023-12-06T19:49:42.218868Z"
    }
   },
   "id": "d942322f5889becb"
  },
  {
   "cell_type": "code",
   "execution_count": 43,
   "outputs": [],
   "source": [
    "index = pinecone.Index(\"clementine-loka\")"
   ],
   "metadata": {
    "collapsed": false,
    "ExecuteTime": {
     "end_time": "2023-12-06T20:08:34.507790Z",
     "start_time": "2023-12-06T20:08:34.503520Z"
    }
   },
   "id": "45f201f4084ea811"
  },
  {
   "cell_type": "code",
   "execution_count": 44,
   "outputs": [
    {
     "data": {
      "text/plain": "{'dimension': 384,\n 'index_fullness': 0.01103,\n 'namespaces': {'': {'vector_count': 1103}},\n 'total_vector_count': 1103}"
     },
     "execution_count": 44,
     "metadata": {},
     "output_type": "execute_result"
    }
   ],
   "source": [
    "index.describe_index_stats()"
   ],
   "metadata": {
    "collapsed": false,
    "ExecuteTime": {
     "end_time": "2023-12-06T20:08:35.699247Z",
     "start_time": "2023-12-06T20:08:35.265746Z"
    }
   },
   "id": "fca76fd02238642f"
  },
  {
   "cell_type": "code",
   "execution_count": 45,
   "outputs": [],
   "source": [
    "from langchain.vectorstores import Pinecone"
   ],
   "metadata": {
    "collapsed": false,
    "ExecuteTime": {
     "end_time": "2023-12-06T20:08:36.414508Z",
     "start_time": "2023-12-06T20:08:36.409560Z"
    }
   },
   "id": "f24343b72344e1a"
  },
  {
   "cell_type": "code",
   "execution_count": 47,
   "outputs": [
    {
     "name": "stdout",
     "output_type": "stream",
     "text": [
      "bert_load_from_file: gguf version     = 2\n",
      "bert_load_from_file: gguf alignment   = 32\n",
      "bert_load_from_file: gguf data offset = 695552\n",
      "bert_load_from_file: model name           = BERT\n",
      "bert_load_from_file: model architecture   = bert\n",
      "bert_load_from_file: model file type      = 1\n",
      "bert_load_from_file: bert tokenizer vocab = 30522\n"
     ]
    }
   ],
   "source": [
    "from langchain.embeddings import GPT4AllEmbeddings\n",
    "\n",
    "embeddings = GPT4AllEmbeddings()\n",
    "vectorstore = Pinecone.from_existing_index(\"clementine-loka\", embeddings)"
   ],
   "metadata": {
    "collapsed": false,
    "ExecuteTime": {
     "end_time": "2023-12-06T20:13:43.414187Z",
     "start_time": "2023-12-06T20:13:42.090957Z"
    }
   },
   "id": "edb3e9901f5f5fc"
  },
  {
   "cell_type": "code",
   "execution_count": 58,
   "outputs": [
    {
     "data": {
      "text/plain": "'The AWS Key Management Service (AWS KMS) key that Amazon SageMaker uses to encrypt the asynchronous inference output in Amazon S3.\\n\\nReplacement\\n\\nSpecifies the configuration for notifications of inference results for asynchronous inference.\\n\\nAsyncInferenceNotificationConfig\\n\\nReplacement\\n\\nThe Amazon S3 location to upload inference responses to.\\n\\nReplacement'"
     },
     "execution_count": 58,
     "metadata": {},
     "output_type": "execute_result"
    }
   ],
   "source": [
    "vectorstore.similarity_search(\"What is AWS?\")[0].page_content#metadata[\"source\"]"
   ],
   "metadata": {
    "collapsed": false,
    "ExecuteTime": {
     "end_time": "2023-12-06T20:19:10.652356Z",
     "start_time": "2023-12-06T20:19:10.406356Z"
    }
   },
   "id": "d4198b2d57af287"
  },
  {
   "cell_type": "code",
   "execution_count": 38,
   "outputs": [],
   "source": [
    "llm = GPT4All(model=\"models/gpt4all-falcon-q4_0.gguf\")"
   ],
   "metadata": {
    "collapsed": false,
    "ExecuteTime": {
     "end_time": "2023-12-06T19:59:18.781743Z",
     "start_time": "2023-12-06T19:59:18.432532Z"
    }
   },
   "id": "88bb6f0c85b33775"
  },
  {
   "cell_type": "code",
   "execution_count": 39,
   "outputs": [
    {
     "data": {
      "text/plain": "'\\nAWS stands for Amazon Web Services. It is a cloud computing platform that provides various services such as compute, storage, database, analytics, and security to help businesses build, deploy, and manage applications in the cloud.'"
     },
     "execution_count": 39,
     "metadata": {},
     "output_type": "execute_result"
    }
   ],
   "source": [
    "llm(\"What is AWS?\")"
   ],
   "metadata": {
    "collapsed": false,
    "ExecuteTime": {
     "end_time": "2023-12-06T19:59:21.876168Z",
     "start_time": "2023-12-06T19:59:20.251899Z"
    }
   },
   "id": "1ca64ea73eeae424"
  },
  {
   "cell_type": "code",
   "execution_count": 95,
   "outputs": [],
   "source": [
    "from langchain.chains import VectorDBQA, RetrievalQA\n",
    "\n",
    "qa = RetrievalQA.from_chain_type(llm=llm, chain_type=\"stuff\", retriever=vectorstore.as_retriever(), return_source_documents=True)"
   ],
   "metadata": {
    "collapsed": false,
    "ExecuteTime": {
     "end_time": "2023-12-06T20:38:31.047457Z",
     "start_time": "2023-12-06T20:38:31.041877Z"
    }
   },
   "id": "e089d73d439ded71"
  },
  {
   "cell_type": "code",
   "execution_count": 96,
   "outputs": [],
   "source": [
    "query = \"What is SageMaker?\"\n",
    "result = qa({\"query\": query})"
   ],
   "metadata": {
    "collapsed": false,
    "ExecuteTime": {
     "end_time": "2023-12-06T20:38:44.658193Z",
     "start_time": "2023-12-06T20:38:32.409608Z"
    }
   },
   "id": "2ae2ccfcd7da6bee"
  },
  {
   "cell_type": "code",
   "execution_count": 97,
   "outputs": [
    {
     "data": {
      "text/plain": "' SageMaker is a managed service offered by Amazon Web Services (AWS) that provides an end-to-end platform for building, deploying, and managing machine learning (ML) workloads on AWS. It includes tools such as the SageMaker Studio, which allows users to create and manage ML projects, and the SageMaker console, which provides a graphical interface for creating and managing ML projects. SageMaker also includes features such as automatic model training, model versioning, and monitoring of ML pipelines.'"
     },
     "execution_count": 97,
     "metadata": {},
     "output_type": "execute_result"
    }
   ],
   "source": [
    "result[\"result\"]"
   ],
   "metadata": {
    "collapsed": false,
    "ExecuteTime": {
     "end_time": "2023-12-06T20:38:44.664313Z",
     "start_time": "2023-12-06T20:38:44.655779Z"
    }
   },
   "id": "a2176d1c64eb2e47"
  },
  {
   "cell_type": "code",
   "execution_count": 99,
   "outputs": [
    {
     "data": {
      "text/plain": "'datasets/raw/sagemaker-projects-whatis.md'"
     },
     "execution_count": 99,
     "metadata": {},
     "output_type": "execute_result"
    }
   ],
   "source": [
    "result[\"source_documents\"][0].metadata[\"source\"]"
   ],
   "metadata": {
    "collapsed": false,
    "ExecuteTime": {
     "end_time": "2023-12-06T20:38:56.942387Z",
     "start_time": "2023-12-06T20:38:56.932978Z"
    }
   },
   "id": "99a89e9b40d3123b"
  },
  {
   "cell_type": "code",
   "execution_count": 100,
   "outputs": [],
   "source": [
    "query = \"What are all AWS regions where SageMaker is available?\""
   ],
   "metadata": {
    "collapsed": false,
    "ExecuteTime": {
     "end_time": "2023-12-06T20:38:58.116408Z",
     "start_time": "2023-12-06T20:38:58.111175Z"
    }
   },
   "id": "46115750c11eb8f0"
  },
  {
   "cell_type": "code",
   "execution_count": 101,
   "outputs": [],
   "source": [
    "result = qa({\"query\": query})"
   ],
   "metadata": {
    "collapsed": false,
    "ExecuteTime": {
     "end_time": "2023-12-06T20:39:19.297592Z",
     "start_time": "2023-12-06T20:38:58.331462Z"
    }
   },
   "id": "94eece05014b3f9b"
  },
  {
   "cell_type": "code",
   "execution_count": 102,
   "outputs": [
    {
     "data": {
      "text/plain": "' All supported AWS regions except China (Beijing), Asia Pacific (Jakarta), Middle East (UAE), Asia Pacific (Hyderabad), Asia Pacific (Melbourne), AWS GovCloud (US-East), AWS GovCloud (US-West), Europe (Spain), China (Ningxia), Europe (Zurich) Region.'"
     },
     "execution_count": 102,
     "metadata": {},
     "output_type": "execute_result"
    }
   ],
   "source": [
    "result[\"result\"]"
   ],
   "metadata": {
    "collapsed": false,
    "ExecuteTime": {
     "end_time": "2023-12-06T20:39:19.299721Z",
     "start_time": "2023-12-06T20:39:19.296645Z"
    }
   },
   "id": "eee06f01fb8d15fa"
  },
  {
   "cell_type": "code",
   "execution_count": 103,
   "outputs": [
    {
     "data": {
      "text/plain": "'datasets/raw/sagemaker-notebook-instance-root-access-check.md'"
     },
     "execution_count": 103,
     "metadata": {},
     "output_type": "execute_result"
    }
   ],
   "source": [
    "result[\"source_documents\"][0].metadata[\"source\"]"
   ],
   "metadata": {
    "collapsed": false,
    "ExecuteTime": {
     "end_time": "2023-12-06T20:39:19.308031Z",
     "start_time": "2023-12-06T20:39:19.298900Z"
    }
   },
   "id": "f77958f0272a80a"
  },
  {
   "cell_type": "code",
   "execution_count": 103,
   "outputs": [],
   "source": [],
   "metadata": {
    "collapsed": false,
    "ExecuteTime": {
     "end_time": "2023-12-06T20:39:19.308192Z",
     "start_time": "2023-12-06T20:39:19.303201Z"
    }
   },
   "id": "a2314d4448dc6920"
  },
  {
   "cell_type": "code",
   "execution_count": null,
   "outputs": [],
   "source": [],
   "metadata": {
    "collapsed": false
   },
   "id": "3347f8035f537a0e"
  }
 ],
 "metadata": {
  "kernelspec": {
   "display_name": "Python 3",
   "language": "python",
   "name": "python3"
  },
  "language_info": {
   "codemirror_mode": {
    "name": "ipython",
    "version": 2
   },
   "file_extension": ".py",
   "mimetype": "text/x-python",
   "name": "python",
   "nbconvert_exporter": "python",
   "pygments_lexer": "ipython2",
   "version": "2.7.6"
  }
 },
 "nbformat": 4,
 "nbformat_minor": 5
}
